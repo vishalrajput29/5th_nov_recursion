{
  "nbformat": 4,
  "nbformat_minor": 0,
  "metadata": {
    "colab": {
      "provenance": []
    },
    "kernelspec": {
      "name": "python3",
      "display_name": "Python 3"
    },
    "language_info": {
      "name": "python"
    }
  },
  "cells": [
    {
      "cell_type": "code",
      "execution_count": 1,
      "metadata": {
        "id": "Fn4PyRhHVlY-"
      },
      "outputs": [],
      "source": [
        "#Q1"
      ]
    },
    {
      "cell_type": "code",
      "source": [
        "def solve_tower_of_hanoi(n, source, auxiliary, destination):\n",
        "    # Base case: If there is only one disk, move it from source to destination\n",
        "    if n == 1:\n",
        "        print(f\"Move disk 1 from {source} to {destination}\")\n",
        "        return\n",
        "\n",
        "    # Move n-1 disks from source to auxiliary rod, using destination as auxiliary\n",
        "    solve_tower_of_hanoi(n - 1, source, destination, auxiliary)\n",
        "\n",
        "    # Move the nth (largest) disk from source to destination\n",
        "    print(f\"Move disk {n} from {source} to {destination}\")\n",
        "\n",
        "    # Move n-1 disks from auxiliary rod to destination, using source as auxiliary\n",
        "    solve_tower_of_hanoi(n - 1, auxiliary, source, destination)\n",
        "\n",
        "def main():\n",
        "    num_disks = 3  # Number of disks\n",
        "    print(f\"The steps to solve the Tower of Hanoi for {num_disks} disks are:\")\n",
        "    solve_tower_of_hanoi(num_disks, 'A', 'B', 'C')\n",
        "\n",
        "if __name__ == \"__main__\":\n",
        "    main()\n"
      ],
      "metadata": {
        "colab": {
          "base_uri": "https://localhost:8080/"
        },
        "id": "bCCKyJacYo1f",
        "outputId": "f7d190a1-0dbb-4342-a9d4-75b6aa5bb6f7"
      },
      "execution_count": 2,
      "outputs": [
        {
          "output_type": "stream",
          "name": "stdout",
          "text": [
            "The steps to solve the Tower of Hanoi for 3 disks are:\n",
            "Move disk 1 from A to C\n",
            "Move disk 2 from A to B\n",
            "Move disk 1 from C to B\n",
            "Move disk 3 from A to C\n",
            "Move disk 1 from B to A\n",
            "Move disk 2 from B to C\n",
            "Move disk 1 from A to C\n"
          ]
        }
      ]
    },
    {
      "cell_type": "code",
      "source": [
        "#Q.2 Given two strings word1 and word2, return the minimum number of operations required to convert word1\n",
        "def minDistance(word1, word2):\n",
        "    m, n = len(word1), len(word2)\n",
        "\n",
        "    # Create a DP table with (m+1) rows and (n+1) columns\n",
        "    dp = [[0] * (n + 1) for _ in range(m + 1)]\n",
        "\n",
        "    # Initialize the base cases\n",
        "    for i in range(m + 1):\n",
        "        dp[i][0] = i  # Deleting all characters from word1 to match empty word2\n",
        "    for j in range(n + 1):\n",
        "        dp[0][j] = j  # Inserting all characters into empty word1 to match word2\n",
        "\n",
        "    # Fill the DP table\n",
        "    for i in range(1, m + 1):\n",
        "        for j in range(1, n + 1):\n",
        "            if word1[i - 1] == word2[j - 1]:\n",
        "                dp[i][j] = dp[i - 1][j - 1]  # No operation needed\n",
        "            else:\n",
        "                dp[i][j] = min(\n",
        "                    dp[i - 1][j - 1],  # Replace\n",
        "                    dp[i - 1][j],      # Delete\n",
        "                    dp[i][j - 1]       # Insert\n",
        "                ) + 1\n",
        "\n",
        "    # The result is in the bottom-right cell of the DP table\n",
        "    return dp[m][n]\n",
        "\n",
        "# Example usage\n",
        "word1 = \"horse\"\n",
        "word2 = \"ros\"\n",
        "print(minDistance(word1, word2))  # Output: 3\n"
      ],
      "metadata": {
        "colab": {
          "base_uri": "https://localhost:8080/"
        },
        "id": "BRC48dvgYt33",
        "outputId": "c375a52c-12e8-451f-a10a-12f3e678c2cb"
      },
      "execution_count": 3,
      "outputs": [
        {
          "output_type": "stream",
          "name": "stdout",
          "text": [
            "3\n"
          ]
        }
      ]
    },
    {
      "cell_type": "code",
      "source": [
        "#Q3\n",
        "# Given array\n",
        "arr = [13, 1, -3, 22, 5]\n",
        "\n",
        "# Find and print the maximum value\n",
        "max_value = max(arr)\n",
        "print(\"The maximum value in the array is:\", max_value)\n"
      ],
      "metadata": {
        "colab": {
          "base_uri": "https://localhost:8080/"
        },
        "id": "e0ybYd4yY_7u",
        "outputId": "fc063fcc-372b-48a7-adaa-0907e2c194d8"
      },
      "execution_count": 4,
      "outputs": [
        {
          "output_type": "stream",
          "name": "stdout",
          "text": [
            "The maximum value in the array is: 22\n"
          ]
        }
      ]
    },
    {
      "cell_type": "code",
      "source": [
        "#Q4\n",
        "# Given array\n",
        "arr = [92, 23, 15, -20, 10]\n",
        "\n",
        "# Find and print the sum of the array\n",
        "total_sum = sum(arr)\n",
        "print(\"The sum of the values in the array is:\", total_sum)\n"
      ],
      "metadata": {
        "colab": {
          "base_uri": "https://localhost:8080/"
        },
        "id": "MJ8cKo_bZPsl",
        "outputId": "789cc480-05ea-415d-baaf-d430a7cf018c"
      },
      "execution_count": 5,
      "outputs": [
        {
          "output_type": "stream",
          "name": "stdout",
          "text": [
            "The sum of the values in the array is: 120\n"
          ]
        }
      ]
    },
    {
      "cell_type": "code",
      "source": [
        "#Q5\n",
        "def is_armstrong(n):\n",
        "    # Convert number to string to count the number of digits\n",
        "    num_str = str(n)\n",
        "    num_digits = len(num_str)\n",
        "\n",
        "    # Calculate the sum of digits raised to the power of num_digits\n",
        "    total_sum = sum(int(digit) ** num_digits for digit in num_str)\n",
        "\n",
        "    # Check if the sum equals the original number\n",
        "    if total_sum == n:\n",
        "        return True\n",
        "    else:\n",
        "        return False\n",
        "\n",
        "# Example usage:\n",
        "n = int(input(\"Enter a number: \"))\n",
        "if is_armstrong(n):\n",
        "    print(f\"{n} is an Armstrong number.\")\n",
        "else:\n",
        "    print(f\"{n} is not an Armstrong number.\")\n"
      ],
      "metadata": {
        "colab": {
          "base_uri": "https://localhost:8080/"
        },
        "id": "4UO4BFjJZbjY",
        "outputId": "a4657bcd-db9b-4f4e-ac79-b46b37db8d37"
      },
      "execution_count": 6,
      "outputs": [
        {
          "output_type": "stream",
          "name": "stdout",
          "text": [
            "Enter a number: 23\n",
            "23 is not an Armstrong number.\n"
          ]
        }
      ]
    },
    {
      "cell_type": "code",
      "source": [],
      "metadata": {
        "id": "9i_gEj8eZk7L"
      },
      "execution_count": null,
      "outputs": []
    }
  ]
}